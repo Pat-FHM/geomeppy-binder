from geomeppy import IDF

# Energy+.idd und .idf werden später hochgeladen
print("Geomeppy wurde erfolgreich importiert!")